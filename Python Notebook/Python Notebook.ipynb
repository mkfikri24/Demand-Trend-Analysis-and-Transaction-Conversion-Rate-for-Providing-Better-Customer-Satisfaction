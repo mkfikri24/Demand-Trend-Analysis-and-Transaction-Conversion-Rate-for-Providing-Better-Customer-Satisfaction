{
  "nbformat": 4,
  "nbformat_minor": 0,
  "metadata": {
    "colab": {
      "provenance": []
    },
    "kernelspec": {
      "name": "python3",
      "display_name": "Python 3"
    },
    "language_info": {
      "name": "python"
    }
  },
  "cells": [
    {
      "cell_type": "code",
      "execution_count": null,
      "metadata": {
        "id": "N8TGy4WGho2h",
        "colab": {
          "base_uri": "https://localhost:8080/"
        },
        "outputId": "2ad1d69b-528b-470b-e366-1feb045e46b2"
      },
      "outputs": [
        {
          "output_type": "stream",
          "name": "stdout",
          "text": [
            "Mounted at /content/drive\n"
          ]
        }
      ],
      "source": [
        "import pandas as pd\n",
        "import numpy as np\n",
        "import os\n",
        "from google.cloud import bigquery\n",
        "from google.colab import drive\n",
        "drive.mount('/content/drive')"
      ]
    },
    {
      "cell_type": "code",
      "source": [
        "os.environ[\"GOOGLE_APPLICATION_CREDENTIALS\"]=\"/content/drive/MyDrive/ICT 8 Hands-On/private-key.json\""
      ],
      "metadata": {
        "id": "mtStY_qliMrD"
      },
      "execution_count": null,
      "outputs": []
    },
    {
      "cell_type": "code",
      "source": [
        "from google.colab import drive\n",
        "drive.mount('/content/drive')"
      ],
      "metadata": {
        "id": "hlrDc_KEiduq",
        "colab": {
          "base_uri": "https://localhost:8080/"
        },
        "outputId": "4ef60418-2747-46cc-9a48-3a0a15d3cc6c"
      },
      "execution_count": null,
      "outputs": [
        {
          "output_type": "stream",
          "name": "stdout",
          "text": [
            "Drive already mounted at /content/drive; to attempt to forcibly remount, call drive.mount(\"/content/drive\", force_remount=True).\n"
          ]
        }
      ]
    },
    {
      "cell_type": "code",
      "source": [
        "bqclient = bigquery.Client()\n",
        "\n",
        "# Download query results.\n",
        "query_string = \"\"\"\n",
        "SELECT * FROM bitlabs-dab.G_CID_01.ralali_transactions_Q1_2018\n",
        "UNION ALL\n",
        "SELECT * FROM bitlabs-dab.G_CID_01.ralali_transactions_Q1_2019\n",
        "UNION ALL\n",
        "SELECT * FROM bitlabs-dab.G_CID_01.ralali_transactions_Q1_2020\n",
        "\"\"\"\n",
        "\n",
        "df = (\n",
        "    bqclient.query(query_string)\n",
        "    .result()\n",
        "    .to_dataframe(\n",
        "        # Optionally, explicitly request to use the BigQuery Storage API. As of\n",
        "        # google-cloud-bigquery version 1.26.0 and above, the BigQuery Storage\n",
        "        # API is used by default.\n",
        "    )\n",
        ")"
      ],
      "metadata": {
        "id": "UT1hhsUaimNF"
      },
      "execution_count": null,
      "outputs": []
    },
    {
      "cell_type": "code",
      "source": [
        "df.info()"
      ],
      "metadata": {
        "id": "lFVgJXgYkNzU",
        "colab": {
          "base_uri": "https://localhost:8080/"
        },
        "outputId": "90ed61db-4c57-4d2e-c209-3ffcbf2739ff"
      },
      "execution_count": null,
      "outputs": [
        {
          "output_type": "stream",
          "name": "stdout",
          "text": [
            "<class 'pandas.core.frame.DataFrame'>\n",
            "RangeIndex: 56999 entries, 0 to 56998\n",
            "Data columns (total 21 columns):\n",
            " #   Column                 Non-Null Count  Dtype              \n",
            "---  ------                 --------------  -----              \n",
            " 0   order_id               56999 non-null  object             \n",
            " 1   oder_detail_id         56999 non-null  object             \n",
            " 2   order_datetime         56999 non-null  datetime64[ns, UTC]\n",
            " 3   item_id                56999 non-null  object             \n",
            " 4   item_name              56999 non-null  object             \n",
            " 5   cat_name               56999 non-null  object             \n",
            " 6   price                  56999 non-null  float64            \n",
            " 7   product_quantity       56999 non-null  Int64              \n",
            " 8   percentage_commission  56999 non-null  float64            \n",
            " 9   payment_method         56999 non-null  object             \n",
            " 10  payment_datetime       56999 non-null  datetime64[ns, UTC]\n",
            " 11  processed_datetime     53325 non-null  datetime64[ns, UTC]\n",
            " 12  delivered_datetime     52995 non-null  datetime64[ns, UTC]\n",
            " 13  received_datetime      53287 non-null  datetime64[ns, UTC]\n",
            " 14  settled_datetime       53079 non-null  datetime64[ns, UTC]\n",
            " 15  buyer_id               56999 non-null  object             \n",
            " 16  seller_id              56999 non-null  object             \n",
            " 17  order_source           56999 non-null  object             \n",
            " 18  buyer_province_name    56995 non-null  object             \n",
            " 19  buyer_city_name        56995 non-null  object             \n",
            " 20  logistic_name          56999 non-null  object             \n",
            "dtypes: Int64(1), datetime64[ns, UTC](6), float64(2), object(12)\n",
            "memory usage: 9.2+ MB\n"
          ]
        }
      ]
    },
    {
      "cell_type": "code",
      "source": [
        "df.isnull().sum()"
      ],
      "metadata": {
        "id": "vatD8U85WBqu",
        "colab": {
          "base_uri": "https://localhost:8080/"
        },
        "outputId": "6e8a89f5-0164-4dd7-f0d2-cf34556e77f2"
      },
      "execution_count": null,
      "outputs": [
        {
          "output_type": "execute_result",
          "data": {
            "text/plain": [
              "order_id                    0\n",
              "oder_detail_id              0\n",
              "order_datetime              0\n",
              "item_id                     0\n",
              "item_name                   0\n",
              "cat_name                    0\n",
              "price                       0\n",
              "product_quantity            0\n",
              "percentage_commission       0\n",
              "payment_method              0\n",
              "payment_datetime            0\n",
              "processed_datetime       3674\n",
              "delivered_datetime       4004\n",
              "received_datetime        3712\n",
              "settled_datetime         3920\n",
              "buyer_id                    0\n",
              "seller_id                   0\n",
              "order_source                0\n",
              "buyer_province_name         4\n",
              "buyer_city_name             4\n",
              "logistic_name               0\n",
              "dtype: int64"
            ]
          },
          "metadata": {},
          "execution_count": 6
        }
      ]
    },
    {
      "cell_type": "markdown",
      "source": [
        "## Data Cleansing"
      ],
      "metadata": {
        "id": "-j-_V5HWIkHt"
      }
    },
    {
      "cell_type": "code",
      "source": [
        "query_string = \"\"\"\n",
        "WITH\n",
        "  data_2018 AS (\n",
        "  SELECT\n",
        "    payment_method,\n",
        "    2018 AS year,\n",
        "    COUNT(order_id) AS total\n",
        "  FROM\n",
        "    `bitlabs-dab.G_CID_01.ralali_transactions_Q1_2018`\n",
        "  GROUP BY\n",
        "    payment_method\n",
        "  ORDER BY\n",
        "    total DESC ),\n",
        "  data_2019 AS (\n",
        "  SELECT\n",
        "    payment_method,\n",
        "    2019 AS year,\n",
        "    COUNT(order_id) AS total\n",
        "  FROM\n",
        "    `bitlabs-dab.G_CID_01.ralali_transactions_Q1_2019`\n",
        "  GROUP BY\n",
        "    payment_method\n",
        "  ORDER BY\n",
        "    total DESC ),\n",
        "  data_2020 AS (\n",
        "  SELECT\n",
        "    payment_method,\n",
        "    2020 AS year,\n",
        "    COUNT(order_id) AS total\n",
        "  FROM\n",
        "    `bitlabs-dab.G_CID_01.ralali_transactions_Q1_2020`\n",
        "  GROUP BY\n",
        "    payment_method\n",
        "  ORDER BY\n",
        "    total DESC )\n",
        "SELECT\n",
        "  *\n",
        "FROM (\n",
        "  SELECT\n",
        "    payment_method,\n",
        "    year,\n",
        "    total\n",
        "  FROM\n",
        "    data_2018\n",
        "  UNION ALL\n",
        "  SELECT\n",
        "    payment_method,\n",
        "    year,\n",
        "    total\n",
        "  FROM\n",
        "    data_2019\n",
        "  UNION ALL\n",
        "  SELECT\n",
        "    payment_method,\n",
        "    year,\n",
        "    total\n",
        "  FROM\n",
        "    data_2020\n",
        "  GROUP BY\n",
        "    payment_method,\n",
        "    year,\n",
        "    total\n",
        "  ORDER BY\n",
        "    payment_method,\n",
        "    year) src PIVOT (SUM(total) FOR Year IN (2018,\n",
        "      2019,\n",
        "      2020) ) piv\n",
        "ORDER BY\n",
        "  payment_method\n",
        "\"\"\"\n",
        "\n",
        "payments_per_year = (\n",
        "    bqclient.query(query_string)\n",
        "    .result()\n",
        "    .to_dataframe()\n",
        ")"
      ],
      "metadata": {
        "id": "-eI97_6NKOgA"
      },
      "execution_count": null,
      "outputs": []
    },
    {
      "cell_type": "code",
      "source": [
        "payments_per_year"
      ],
      "metadata": {
        "colab": {
          "base_uri": "https://localhost:8080/",
          "height": 645
        },
        "id": "MGdV1spAKYYT",
        "outputId": "4c106903-3a00-4edd-a37c-65b0872ba0cc"
      },
      "execution_count": null,
      "outputs": [
        {
          "output_type": "execute_result",
          "data": {
            "text/plain": [
              "              payment_method  _2018  _2019  _2020\n",
              "0                        BCA   <NA>   2536   5548\n",
              "1          BCA Bank Transfer   5819   6489  19752\n",
              "2               BCA Klik Pay   <NA>   <NA>      2\n",
              "3                        BII     55      2      7\n",
              "4                        BNI    178     92   1358\n",
              "5          BNI Bank Transfer    304    207    268\n",
              "6                        BRI    138    107    531\n",
              "7          BRI Bank Transfer    616    440    183\n",
              "8                   Bank BCA   <NA>    210   1519\n",
              "9                Credit Card    439     81     37\n",
              "10         DBS Bank Transfer     21      6      4\n",
              "11                   Kredivo     20      3      3\n",
              "12                   Mandiri   1093    145    719\n",
              "13     Mandiri Bank Transfer    401    339    141\n",
              "14  Mandiri Internet Banking     58      1   <NA>\n",
              "15                       Ovo   <NA>    359     97\n",
              "16           Payment Nothing     62   <NA>      1\n",
              "17                   Permata    132     43     28\n",
              "18             Ralali Wallet   <NA>      3   6402"
            ],
            "text/html": [
              "\n",
              "  <div id=\"df-fb31e4e8-e545-4b7a-9f02-ccbbb4d98bf9\">\n",
              "    <div class=\"colab-df-container\">\n",
              "      <div>\n",
              "<style scoped>\n",
              "    .dataframe tbody tr th:only-of-type {\n",
              "        vertical-align: middle;\n",
              "    }\n",
              "\n",
              "    .dataframe tbody tr th {\n",
              "        vertical-align: top;\n",
              "    }\n",
              "\n",
              "    .dataframe thead th {\n",
              "        text-align: right;\n",
              "    }\n",
              "</style>\n",
              "<table border=\"1\" class=\"dataframe\">\n",
              "  <thead>\n",
              "    <tr style=\"text-align: right;\">\n",
              "      <th></th>\n",
              "      <th>payment_method</th>\n",
              "      <th>_2018</th>\n",
              "      <th>_2019</th>\n",
              "      <th>_2020</th>\n",
              "    </tr>\n",
              "  </thead>\n",
              "  <tbody>\n",
              "    <tr>\n",
              "      <th>0</th>\n",
              "      <td>BCA</td>\n",
              "      <td>&lt;NA&gt;</td>\n",
              "      <td>2536</td>\n",
              "      <td>5548</td>\n",
              "    </tr>\n",
              "    <tr>\n",
              "      <th>1</th>\n",
              "      <td>BCA Bank Transfer</td>\n",
              "      <td>5819</td>\n",
              "      <td>6489</td>\n",
              "      <td>19752</td>\n",
              "    </tr>\n",
              "    <tr>\n",
              "      <th>2</th>\n",
              "      <td>BCA Klik Pay</td>\n",
              "      <td>&lt;NA&gt;</td>\n",
              "      <td>&lt;NA&gt;</td>\n",
              "      <td>2</td>\n",
              "    </tr>\n",
              "    <tr>\n",
              "      <th>3</th>\n",
              "      <td>BII</td>\n",
              "      <td>55</td>\n",
              "      <td>2</td>\n",
              "      <td>7</td>\n",
              "    </tr>\n",
              "    <tr>\n",
              "      <th>4</th>\n",
              "      <td>BNI</td>\n",
              "      <td>178</td>\n",
              "      <td>92</td>\n",
              "      <td>1358</td>\n",
              "    </tr>\n",
              "    <tr>\n",
              "      <th>5</th>\n",
              "      <td>BNI Bank Transfer</td>\n",
              "      <td>304</td>\n",
              "      <td>207</td>\n",
              "      <td>268</td>\n",
              "    </tr>\n",
              "    <tr>\n",
              "      <th>6</th>\n",
              "      <td>BRI</td>\n",
              "      <td>138</td>\n",
              "      <td>107</td>\n",
              "      <td>531</td>\n",
              "    </tr>\n",
              "    <tr>\n",
              "      <th>7</th>\n",
              "      <td>BRI Bank Transfer</td>\n",
              "      <td>616</td>\n",
              "      <td>440</td>\n",
              "      <td>183</td>\n",
              "    </tr>\n",
              "    <tr>\n",
              "      <th>8</th>\n",
              "      <td>Bank BCA</td>\n",
              "      <td>&lt;NA&gt;</td>\n",
              "      <td>210</td>\n",
              "      <td>1519</td>\n",
              "    </tr>\n",
              "    <tr>\n",
              "      <th>9</th>\n",
              "      <td>Credit Card</td>\n",
              "      <td>439</td>\n",
              "      <td>81</td>\n",
              "      <td>37</td>\n",
              "    </tr>\n",
              "    <tr>\n",
              "      <th>10</th>\n",
              "      <td>DBS Bank Transfer</td>\n",
              "      <td>21</td>\n",
              "      <td>6</td>\n",
              "      <td>4</td>\n",
              "    </tr>\n",
              "    <tr>\n",
              "      <th>11</th>\n",
              "      <td>Kredivo</td>\n",
              "      <td>20</td>\n",
              "      <td>3</td>\n",
              "      <td>3</td>\n",
              "    </tr>\n",
              "    <tr>\n",
              "      <th>12</th>\n",
              "      <td>Mandiri</td>\n",
              "      <td>1093</td>\n",
              "      <td>145</td>\n",
              "      <td>719</td>\n",
              "    </tr>\n",
              "    <tr>\n",
              "      <th>13</th>\n",
              "      <td>Mandiri Bank Transfer</td>\n",
              "      <td>401</td>\n",
              "      <td>339</td>\n",
              "      <td>141</td>\n",
              "    </tr>\n",
              "    <tr>\n",
              "      <th>14</th>\n",
              "      <td>Mandiri Internet Banking</td>\n",
              "      <td>58</td>\n",
              "      <td>1</td>\n",
              "      <td>&lt;NA&gt;</td>\n",
              "    </tr>\n",
              "    <tr>\n",
              "      <th>15</th>\n",
              "      <td>Ovo</td>\n",
              "      <td>&lt;NA&gt;</td>\n",
              "      <td>359</td>\n",
              "      <td>97</td>\n",
              "    </tr>\n",
              "    <tr>\n",
              "      <th>16</th>\n",
              "      <td>Payment Nothing</td>\n",
              "      <td>62</td>\n",
              "      <td>&lt;NA&gt;</td>\n",
              "      <td>1</td>\n",
              "    </tr>\n",
              "    <tr>\n",
              "      <th>17</th>\n",
              "      <td>Permata</td>\n",
              "      <td>132</td>\n",
              "      <td>43</td>\n",
              "      <td>28</td>\n",
              "    </tr>\n",
              "    <tr>\n",
              "      <th>18</th>\n",
              "      <td>Ralali Wallet</td>\n",
              "      <td>&lt;NA&gt;</td>\n",
              "      <td>3</td>\n",
              "      <td>6402</td>\n",
              "    </tr>\n",
              "  </tbody>\n",
              "</table>\n",
              "</div>\n",
              "      <button class=\"colab-df-convert\" onclick=\"convertToInteractive('df-fb31e4e8-e545-4b7a-9f02-ccbbb4d98bf9')\"\n",
              "              title=\"Convert this dataframe to an interactive table.\"\n",
              "              style=\"display:none;\">\n",
              "        \n",
              "  <svg xmlns=\"http://www.w3.org/2000/svg\" height=\"24px\"viewBox=\"0 0 24 24\"\n",
              "       width=\"24px\">\n",
              "    <path d=\"M0 0h24v24H0V0z\" fill=\"none\"/>\n",
              "    <path d=\"M18.56 5.44l.94 2.06.94-2.06 2.06-.94-2.06-.94-.94-2.06-.94 2.06-2.06.94zm-11 1L8.5 8.5l.94-2.06 2.06-.94-2.06-.94L8.5 2.5l-.94 2.06-2.06.94zm10 10l.94 2.06.94-2.06 2.06-.94-2.06-.94-.94-2.06-.94 2.06-2.06.94z\"/><path d=\"M17.41 7.96l-1.37-1.37c-.4-.4-.92-.59-1.43-.59-.52 0-1.04.2-1.43.59L10.3 9.45l-7.72 7.72c-.78.78-.78 2.05 0 2.83L4 21.41c.39.39.9.59 1.41.59.51 0 1.02-.2 1.41-.59l7.78-7.78 2.81-2.81c.8-.78.8-2.07 0-2.86zM5.41 20L4 18.59l7.72-7.72 1.47 1.35L5.41 20z\"/>\n",
              "  </svg>\n",
              "      </button>\n",
              "      \n",
              "  <style>\n",
              "    .colab-df-container {\n",
              "      display:flex;\n",
              "      flex-wrap:wrap;\n",
              "      gap: 12px;\n",
              "    }\n",
              "\n",
              "    .colab-df-convert {\n",
              "      background-color: #E8F0FE;\n",
              "      border: none;\n",
              "      border-radius: 50%;\n",
              "      cursor: pointer;\n",
              "      display: none;\n",
              "      fill: #1967D2;\n",
              "      height: 32px;\n",
              "      padding: 0 0 0 0;\n",
              "      width: 32px;\n",
              "    }\n",
              "\n",
              "    .colab-df-convert:hover {\n",
              "      background-color: #E2EBFA;\n",
              "      box-shadow: 0px 1px 2px rgba(60, 64, 67, 0.3), 0px 1px 3px 1px rgba(60, 64, 67, 0.15);\n",
              "      fill: #174EA6;\n",
              "    }\n",
              "\n",
              "    [theme=dark] .colab-df-convert {\n",
              "      background-color: #3B4455;\n",
              "      fill: #D2E3FC;\n",
              "    }\n",
              "\n",
              "    [theme=dark] .colab-df-convert:hover {\n",
              "      background-color: #434B5C;\n",
              "      box-shadow: 0px 1px 3px 1px rgba(0, 0, 0, 0.15);\n",
              "      filter: drop-shadow(0px 1px 2px rgba(0, 0, 0, 0.3));\n",
              "      fill: #FFFFFF;\n",
              "    }\n",
              "  </style>\n",
              "\n",
              "      <script>\n",
              "        const buttonEl =\n",
              "          document.querySelector('#df-fb31e4e8-e545-4b7a-9f02-ccbbb4d98bf9 button.colab-df-convert');\n",
              "        buttonEl.style.display =\n",
              "          google.colab.kernel.accessAllowed ? 'block' : 'none';\n",
              "\n",
              "        async function convertToInteractive(key) {\n",
              "          const element = document.querySelector('#df-fb31e4e8-e545-4b7a-9f02-ccbbb4d98bf9');\n",
              "          const dataTable =\n",
              "            await google.colab.kernel.invokeFunction('convertToInteractive',\n",
              "                                                     [key], {});\n",
              "          if (!dataTable) return;\n",
              "\n",
              "          const docLinkHtml = 'Like what you see? Visit the ' +\n",
              "            '<a target=\"_blank\" href=https://colab.research.google.com/notebooks/data_table.ipynb>data table notebook</a>'\n",
              "            + ' to learn more about interactive tables.';\n",
              "          element.innerHTML = '';\n",
              "          dataTable['output_type'] = 'display_data';\n",
              "          await google.colab.output.renderOutput(dataTable, element);\n",
              "          const docLink = document.createElement('div');\n",
              "          docLink.innerHTML = docLinkHtml;\n",
              "          element.appendChild(docLink);\n",
              "        }\n",
              "      </script>\n",
              "    </div>\n",
              "  </div>\n",
              "  "
            ]
          },
          "metadata": {},
          "execution_count": 8
        }
      ]
    },
    {
      "cell_type": "code",
      "source": [
        "payments_per_year.fillna(value=0)"
      ],
      "metadata": {
        "colab": {
          "base_uri": "https://localhost:8080/",
          "height": 645
        },
        "id": "OgN2HuWfLDOj",
        "outputId": "f712d78c-e9fd-4c0a-f00e-fd2a19df5f04"
      },
      "execution_count": null,
      "outputs": [
        {
          "output_type": "execute_result",
          "data": {
            "text/plain": [
              "              payment_method  _2018  _2019  _2020\n",
              "0                        BCA      0   2536   5548\n",
              "1          BCA Bank Transfer   5819   6489  19752\n",
              "2               BCA Klik Pay      0      0      2\n",
              "3                        BII     55      2      7\n",
              "4                        BNI    178     92   1358\n",
              "5          BNI Bank Transfer    304    207    268\n",
              "6                        BRI    138    107    531\n",
              "7          BRI Bank Transfer    616    440    183\n",
              "8                   Bank BCA      0    210   1519\n",
              "9                Credit Card    439     81     37\n",
              "10         DBS Bank Transfer     21      6      4\n",
              "11                   Kredivo     20      3      3\n",
              "12                   Mandiri   1093    145    719\n",
              "13     Mandiri Bank Transfer    401    339    141\n",
              "14  Mandiri Internet Banking     58      1      0\n",
              "15                       Ovo      0    359     97\n",
              "16           Payment Nothing     62      0      1\n",
              "17                   Permata    132     43     28\n",
              "18             Ralali Wallet      0      3   6402"
            ],
            "text/html": [
              "\n",
              "  <div id=\"df-90bbcac8-6f6b-49f7-a048-d5f17db69ef0\">\n",
              "    <div class=\"colab-df-container\">\n",
              "      <div>\n",
              "<style scoped>\n",
              "    .dataframe tbody tr th:only-of-type {\n",
              "        vertical-align: middle;\n",
              "    }\n",
              "\n",
              "    .dataframe tbody tr th {\n",
              "        vertical-align: top;\n",
              "    }\n",
              "\n",
              "    .dataframe thead th {\n",
              "        text-align: right;\n",
              "    }\n",
              "</style>\n",
              "<table border=\"1\" class=\"dataframe\">\n",
              "  <thead>\n",
              "    <tr style=\"text-align: right;\">\n",
              "      <th></th>\n",
              "      <th>payment_method</th>\n",
              "      <th>_2018</th>\n",
              "      <th>_2019</th>\n",
              "      <th>_2020</th>\n",
              "    </tr>\n",
              "  </thead>\n",
              "  <tbody>\n",
              "    <tr>\n",
              "      <th>0</th>\n",
              "      <td>BCA</td>\n",
              "      <td>0</td>\n",
              "      <td>2536</td>\n",
              "      <td>5548</td>\n",
              "    </tr>\n",
              "    <tr>\n",
              "      <th>1</th>\n",
              "      <td>BCA Bank Transfer</td>\n",
              "      <td>5819</td>\n",
              "      <td>6489</td>\n",
              "      <td>19752</td>\n",
              "    </tr>\n",
              "    <tr>\n",
              "      <th>2</th>\n",
              "      <td>BCA Klik Pay</td>\n",
              "      <td>0</td>\n",
              "      <td>0</td>\n",
              "      <td>2</td>\n",
              "    </tr>\n",
              "    <tr>\n",
              "      <th>3</th>\n",
              "      <td>BII</td>\n",
              "      <td>55</td>\n",
              "      <td>2</td>\n",
              "      <td>7</td>\n",
              "    </tr>\n",
              "    <tr>\n",
              "      <th>4</th>\n",
              "      <td>BNI</td>\n",
              "      <td>178</td>\n",
              "      <td>92</td>\n",
              "      <td>1358</td>\n",
              "    </tr>\n",
              "    <tr>\n",
              "      <th>5</th>\n",
              "      <td>BNI Bank Transfer</td>\n",
              "      <td>304</td>\n",
              "      <td>207</td>\n",
              "      <td>268</td>\n",
              "    </tr>\n",
              "    <tr>\n",
              "      <th>6</th>\n",
              "      <td>BRI</td>\n",
              "      <td>138</td>\n",
              "      <td>107</td>\n",
              "      <td>531</td>\n",
              "    </tr>\n",
              "    <tr>\n",
              "      <th>7</th>\n",
              "      <td>BRI Bank Transfer</td>\n",
              "      <td>616</td>\n",
              "      <td>440</td>\n",
              "      <td>183</td>\n",
              "    </tr>\n",
              "    <tr>\n",
              "      <th>8</th>\n",
              "      <td>Bank BCA</td>\n",
              "      <td>0</td>\n",
              "      <td>210</td>\n",
              "      <td>1519</td>\n",
              "    </tr>\n",
              "    <tr>\n",
              "      <th>9</th>\n",
              "      <td>Credit Card</td>\n",
              "      <td>439</td>\n",
              "      <td>81</td>\n",
              "      <td>37</td>\n",
              "    </tr>\n",
              "    <tr>\n",
              "      <th>10</th>\n",
              "      <td>DBS Bank Transfer</td>\n",
              "      <td>21</td>\n",
              "      <td>6</td>\n",
              "      <td>4</td>\n",
              "    </tr>\n",
              "    <tr>\n",
              "      <th>11</th>\n",
              "      <td>Kredivo</td>\n",
              "      <td>20</td>\n",
              "      <td>3</td>\n",
              "      <td>3</td>\n",
              "    </tr>\n",
              "    <tr>\n",
              "      <th>12</th>\n",
              "      <td>Mandiri</td>\n",
              "      <td>1093</td>\n",
              "      <td>145</td>\n",
              "      <td>719</td>\n",
              "    </tr>\n",
              "    <tr>\n",
              "      <th>13</th>\n",
              "      <td>Mandiri Bank Transfer</td>\n",
              "      <td>401</td>\n",
              "      <td>339</td>\n",
              "      <td>141</td>\n",
              "    </tr>\n",
              "    <tr>\n",
              "      <th>14</th>\n",
              "      <td>Mandiri Internet Banking</td>\n",
              "      <td>58</td>\n",
              "      <td>1</td>\n",
              "      <td>0</td>\n",
              "    </tr>\n",
              "    <tr>\n",
              "      <th>15</th>\n",
              "      <td>Ovo</td>\n",
              "      <td>0</td>\n",
              "      <td>359</td>\n",
              "      <td>97</td>\n",
              "    </tr>\n",
              "    <tr>\n",
              "      <th>16</th>\n",
              "      <td>Payment Nothing</td>\n",
              "      <td>62</td>\n",
              "      <td>0</td>\n",
              "      <td>1</td>\n",
              "    </tr>\n",
              "    <tr>\n",
              "      <th>17</th>\n",
              "      <td>Permata</td>\n",
              "      <td>132</td>\n",
              "      <td>43</td>\n",
              "      <td>28</td>\n",
              "    </tr>\n",
              "    <tr>\n",
              "      <th>18</th>\n",
              "      <td>Ralali Wallet</td>\n",
              "      <td>0</td>\n",
              "      <td>3</td>\n",
              "      <td>6402</td>\n",
              "    </tr>\n",
              "  </tbody>\n",
              "</table>\n",
              "</div>\n",
              "      <button class=\"colab-df-convert\" onclick=\"convertToInteractive('df-90bbcac8-6f6b-49f7-a048-d5f17db69ef0')\"\n",
              "              title=\"Convert this dataframe to an interactive table.\"\n",
              "              style=\"display:none;\">\n",
              "        \n",
              "  <svg xmlns=\"http://www.w3.org/2000/svg\" height=\"24px\"viewBox=\"0 0 24 24\"\n",
              "       width=\"24px\">\n",
              "    <path d=\"M0 0h24v24H0V0z\" fill=\"none\"/>\n",
              "    <path d=\"M18.56 5.44l.94 2.06.94-2.06 2.06-.94-2.06-.94-.94-2.06-.94 2.06-2.06.94zm-11 1L8.5 8.5l.94-2.06 2.06-.94-2.06-.94L8.5 2.5l-.94 2.06-2.06.94zm10 10l.94 2.06.94-2.06 2.06-.94-2.06-.94-.94-2.06-.94 2.06-2.06.94z\"/><path d=\"M17.41 7.96l-1.37-1.37c-.4-.4-.92-.59-1.43-.59-.52 0-1.04.2-1.43.59L10.3 9.45l-7.72 7.72c-.78.78-.78 2.05 0 2.83L4 21.41c.39.39.9.59 1.41.59.51 0 1.02-.2 1.41-.59l7.78-7.78 2.81-2.81c.8-.78.8-2.07 0-2.86zM5.41 20L4 18.59l7.72-7.72 1.47 1.35L5.41 20z\"/>\n",
              "  </svg>\n",
              "      </button>\n",
              "      \n",
              "  <style>\n",
              "    .colab-df-container {\n",
              "      display:flex;\n",
              "      flex-wrap:wrap;\n",
              "      gap: 12px;\n",
              "    }\n",
              "\n",
              "    .colab-df-convert {\n",
              "      background-color: #E8F0FE;\n",
              "      border: none;\n",
              "      border-radius: 50%;\n",
              "      cursor: pointer;\n",
              "      display: none;\n",
              "      fill: #1967D2;\n",
              "      height: 32px;\n",
              "      padding: 0 0 0 0;\n",
              "      width: 32px;\n",
              "    }\n",
              "\n",
              "    .colab-df-convert:hover {\n",
              "      background-color: #E2EBFA;\n",
              "      box-shadow: 0px 1px 2px rgba(60, 64, 67, 0.3), 0px 1px 3px 1px rgba(60, 64, 67, 0.15);\n",
              "      fill: #174EA6;\n",
              "    }\n",
              "\n",
              "    [theme=dark] .colab-df-convert {\n",
              "      background-color: #3B4455;\n",
              "      fill: #D2E3FC;\n",
              "    }\n",
              "\n",
              "    [theme=dark] .colab-df-convert:hover {\n",
              "      background-color: #434B5C;\n",
              "      box-shadow: 0px 1px 3px 1px rgba(0, 0, 0, 0.15);\n",
              "      filter: drop-shadow(0px 1px 2px rgba(0, 0, 0, 0.3));\n",
              "      fill: #FFFFFF;\n",
              "    }\n",
              "  </style>\n",
              "\n",
              "      <script>\n",
              "        const buttonEl =\n",
              "          document.querySelector('#df-90bbcac8-6f6b-49f7-a048-d5f17db69ef0 button.colab-df-convert');\n",
              "        buttonEl.style.display =\n",
              "          google.colab.kernel.accessAllowed ? 'block' : 'none';\n",
              "\n",
              "        async function convertToInteractive(key) {\n",
              "          const element = document.querySelector('#df-90bbcac8-6f6b-49f7-a048-d5f17db69ef0');\n",
              "          const dataTable =\n",
              "            await google.colab.kernel.invokeFunction('convertToInteractive',\n",
              "                                                     [key], {});\n",
              "          if (!dataTable) return;\n",
              "\n",
              "          const docLinkHtml = 'Like what you see? Visit the ' +\n",
              "            '<a target=\"_blank\" href=https://colab.research.google.com/notebooks/data_table.ipynb>data table notebook</a>'\n",
              "            + ' to learn more about interactive tables.';\n",
              "          element.innerHTML = '';\n",
              "          dataTable['output_type'] = 'display_data';\n",
              "          await google.colab.output.renderOutput(dataTable, element);\n",
              "          const docLink = document.createElement('div');\n",
              "          docLink.innerHTML = docLinkHtml;\n",
              "          element.appendChild(docLink);\n",
              "        }\n",
              "      </script>\n",
              "    </div>\n",
              "  </div>\n",
              "  "
            ]
          },
          "metadata": {},
          "execution_count": 9
        }
      ]
    },
    {
      "cell_type": "code",
      "source": [
        "query_string = \"\"\"\n",
        "WITH\n",
        "c\n",
        "AS\n",
        "(\n",
        "WITH b\n",
        "AS\n",
        "(\n",
        "WITH a\n",
        "AS\n",
        "(\n",
        "SELECT *\n",
        "        FROM bitlabs-dab.G_CID_01.ralali_transactions_Q1_2018\n",
        "UNION ALL\n",
        "SELECT *\n",
        "        FROM bitlabs-dab.G_CID_01.ralali_transactions_Q1_2019\n",
        "UNION ALL\n",
        "SELECT *\n",
        "        FROM bitlabs-dab.G_CID_01.ralali_transactions_Q1_2020\n",
        ")\n",
        "SELECT COUNT(order_id) AS total_payment\n",
        "        ,CASE\n",
        "        WHEN payment_method\n",
        "        IN('BCA Bank Transfer'\n",
        "        ,'Mandiri Bank Transfer'\n",
        "        ,'BNI Bank Transfer'\n",
        "        ,'BRI'\n",
        "        ,'BRI Bank Transfer'\n",
        "        ,'Mandiri'\n",
        "        ,'BNI'\n",
        "        ,'BII'\n",
        "        ,'Mandiri Internet Banking'\n",
        "        ,'Permata'\n",
        "        ,'DBS Bank Transfer'\n",
        "        ,'Bank BCA'\n",
        "        ,'BCA'\n",
        "        ,'BCA Klik Pay') THEN 'Bank Transfer'\n",
        "        WHEN payment_method\n",
        "        IN('Ralali Wallet'\n",
        "        ,'Ovo') THEN 'e-Wallet'\n",
        "        WHEN payment_method\n",
        "        IN('Payment Nothing') THEN 'TOP'\n",
        "        WHEN payment_method\n",
        "        IN ('Credit Card','Kredivo') THEN 'Credit Card'\n",
        "        END AS method\n",
        "FROM a\n",
        "GROUP BY method\n",
        ")\n",
        "SELECT method\n",
        "        ,total_payment\n",
        "        , SUM(total_payment) OVER() AS total\n",
        "FROM b\n",
        ")\n",
        "SELECT method\n",
        "        ,ROUND((total_payment/total)*100,3) AS percentage\n",
        "FROM c\n",
        "ORDER BY 2 DESC\n",
        "\"\"\"\n",
        "\n",
        "df_payments = (\n",
        "    bqclient.query(query_string)\n",
        "    .result()\n",
        "    .to_dataframe()\n",
        ")"
      ],
      "metadata": {
        "id": "0hM2i9aMIVy9"
      },
      "execution_count": null,
      "outputs": []
    },
    {
      "cell_type": "code",
      "source": [
        "df_payments"
      ],
      "metadata": {
        "colab": {
          "base_uri": "https://localhost:8080/",
          "height": 175
        },
        "id": "eqWslWqjIpmt",
        "outputId": "c3b2e2d1-12b9-4a44-b071-450133a27578"
      },
      "execution_count": null,
      "outputs": [
        {
          "output_type": "execute_result",
          "data": {
            "text/plain": [
              "          method  percentage\n",
              "0  Bank Transfer      86.830\n",
              "1       e-Wallet      12.037\n",
              "2    Credit Card       1.023\n",
              "3            TOP       0.111"
            ],
            "text/html": [
              "\n",
              "  <div id=\"df-89f80acb-388e-4437-bbe8-48ee2e18b007\">\n",
              "    <div class=\"colab-df-container\">\n",
              "      <div>\n",
              "<style scoped>\n",
              "    .dataframe tbody tr th:only-of-type {\n",
              "        vertical-align: middle;\n",
              "    }\n",
              "\n",
              "    .dataframe tbody tr th {\n",
              "        vertical-align: top;\n",
              "    }\n",
              "\n",
              "    .dataframe thead th {\n",
              "        text-align: right;\n",
              "    }\n",
              "</style>\n",
              "<table border=\"1\" class=\"dataframe\">\n",
              "  <thead>\n",
              "    <tr style=\"text-align: right;\">\n",
              "      <th></th>\n",
              "      <th>method</th>\n",
              "      <th>percentage</th>\n",
              "    </tr>\n",
              "  </thead>\n",
              "  <tbody>\n",
              "    <tr>\n",
              "      <th>0</th>\n",
              "      <td>Bank Transfer</td>\n",
              "      <td>86.830</td>\n",
              "    </tr>\n",
              "    <tr>\n",
              "      <th>1</th>\n",
              "      <td>e-Wallet</td>\n",
              "      <td>12.037</td>\n",
              "    </tr>\n",
              "    <tr>\n",
              "      <th>2</th>\n",
              "      <td>Credit Card</td>\n",
              "      <td>1.023</td>\n",
              "    </tr>\n",
              "    <tr>\n",
              "      <th>3</th>\n",
              "      <td>TOP</td>\n",
              "      <td>0.111</td>\n",
              "    </tr>\n",
              "  </tbody>\n",
              "</table>\n",
              "</div>\n",
              "      <button class=\"colab-df-convert\" onclick=\"convertToInteractive('df-89f80acb-388e-4437-bbe8-48ee2e18b007')\"\n",
              "              title=\"Convert this dataframe to an interactive table.\"\n",
              "              style=\"display:none;\">\n",
              "        \n",
              "  <svg xmlns=\"http://www.w3.org/2000/svg\" height=\"24px\"viewBox=\"0 0 24 24\"\n",
              "       width=\"24px\">\n",
              "    <path d=\"M0 0h24v24H0V0z\" fill=\"none\"/>\n",
              "    <path d=\"M18.56 5.44l.94 2.06.94-2.06 2.06-.94-2.06-.94-.94-2.06-.94 2.06-2.06.94zm-11 1L8.5 8.5l.94-2.06 2.06-.94-2.06-.94L8.5 2.5l-.94 2.06-2.06.94zm10 10l.94 2.06.94-2.06 2.06-.94-2.06-.94-.94-2.06-.94 2.06-2.06.94z\"/><path d=\"M17.41 7.96l-1.37-1.37c-.4-.4-.92-.59-1.43-.59-.52 0-1.04.2-1.43.59L10.3 9.45l-7.72 7.72c-.78.78-.78 2.05 0 2.83L4 21.41c.39.39.9.59 1.41.59.51 0 1.02-.2 1.41-.59l7.78-7.78 2.81-2.81c.8-.78.8-2.07 0-2.86zM5.41 20L4 18.59l7.72-7.72 1.47 1.35L5.41 20z\"/>\n",
              "  </svg>\n",
              "      </button>\n",
              "      \n",
              "  <style>\n",
              "    .colab-df-container {\n",
              "      display:flex;\n",
              "      flex-wrap:wrap;\n",
              "      gap: 12px;\n",
              "    }\n",
              "\n",
              "    .colab-df-convert {\n",
              "      background-color: #E8F0FE;\n",
              "      border: none;\n",
              "      border-radius: 50%;\n",
              "      cursor: pointer;\n",
              "      display: none;\n",
              "      fill: #1967D2;\n",
              "      height: 32px;\n",
              "      padding: 0 0 0 0;\n",
              "      width: 32px;\n",
              "    }\n",
              "\n",
              "    .colab-df-convert:hover {\n",
              "      background-color: #E2EBFA;\n",
              "      box-shadow: 0px 1px 2px rgba(60, 64, 67, 0.3), 0px 1px 3px 1px rgba(60, 64, 67, 0.15);\n",
              "      fill: #174EA6;\n",
              "    }\n",
              "\n",
              "    [theme=dark] .colab-df-convert {\n",
              "      background-color: #3B4455;\n",
              "      fill: #D2E3FC;\n",
              "    }\n",
              "\n",
              "    [theme=dark] .colab-df-convert:hover {\n",
              "      background-color: #434B5C;\n",
              "      box-shadow: 0px 1px 3px 1px rgba(0, 0, 0, 0.15);\n",
              "      filter: drop-shadow(0px 1px 2px rgba(0, 0, 0, 0.3));\n",
              "      fill: #FFFFFF;\n",
              "    }\n",
              "  </style>\n",
              "\n",
              "      <script>\n",
              "        const buttonEl =\n",
              "          document.querySelector('#df-89f80acb-388e-4437-bbe8-48ee2e18b007 button.colab-df-convert');\n",
              "        buttonEl.style.display =\n",
              "          google.colab.kernel.accessAllowed ? 'block' : 'none';\n",
              "\n",
              "        async function convertToInteractive(key) {\n",
              "          const element = document.querySelector('#df-89f80acb-388e-4437-bbe8-48ee2e18b007');\n",
              "          const dataTable =\n",
              "            await google.colab.kernel.invokeFunction('convertToInteractive',\n",
              "                                                     [key], {});\n",
              "          if (!dataTable) return;\n",
              "\n",
              "          const docLinkHtml = 'Like what you see? Visit the ' +\n",
              "            '<a target=\"_blank\" href=https://colab.research.google.com/notebooks/data_table.ipynb>data table notebook</a>'\n",
              "            + ' to learn more about interactive tables.';\n",
              "          element.innerHTML = '';\n",
              "          dataTable['output_type'] = 'display_data';\n",
              "          await google.colab.output.renderOutput(dataTable, element);\n",
              "          const docLink = document.createElement('div');\n",
              "          docLink.innerHTML = docLinkHtml;\n",
              "          element.appendChild(docLink);\n",
              "        }\n",
              "      </script>\n",
              "    </div>\n",
              "  </div>\n",
              "  "
            ]
          },
          "metadata": {},
          "execution_count": 11
        }
      ]
    },
    {
      "cell_type": "markdown",
      "source": [
        "## Detecting Outliers"
      ],
      "metadata": {
        "id": "WIQA_UTWMrhg"
      }
    },
    {
      "cell_type": "code",
      "source": [
        "df['price']"
      ],
      "metadata": {
        "colab": {
          "base_uri": "https://localhost:8080/"
        },
        "id": "ZS-WTcbHNSQ6",
        "outputId": "2e6f57c5-d025-4237-e76c-bf7615273bee"
      },
      "execution_count": null,
      "outputs": [
        {
          "output_type": "execute_result",
          "data": {
            "text/plain": [
              "0        510000.0\n",
              "1        510000.0\n",
              "2        610000.0\n",
              "3        610000.0\n",
              "4        610000.0\n",
              "           ...   \n",
              "56994     20000.0\n",
              "56995     20000.0\n",
              "56996     20000.0\n",
              "56997     29000.0\n",
              "56998     32000.0\n",
              "Name: price, Length: 56999, dtype: float64"
            ]
          },
          "metadata": {},
          "execution_count": 12
        }
      ]
    },
    {
      "cell_type": "code",
      "source": [
        "import seaborn as sns\n",
        "import matplotlib.pyplot as plt\n",
        "\n",
        "sns.boxplot(x = df['price'])\n",
        "plt.show()"
      ],
      "metadata": {
        "colab": {
          "base_uri": "https://localhost:8080/",
          "height": 279
        },
        "id": "Mg_JAF5SQotD",
        "outputId": "4965fca0-be49-4c69-ec03-44bb0a86a00c"
      },
      "execution_count": null,
      "outputs": [
        {
          "output_type": "display_data",
          "data": {
            "text/plain": [
              "<Figure size 432x288 with 1 Axes>"
            ],
            "image/png": "[encoded data removed]"
          },
          "metadata": {
            "needs_background": "light"
          }
        }
      ]
    },
    {
      "cell_type": "code",
      "source": [
        "df['product_quantity']"
      ],
      "metadata": {
        "colab": {
          "base_uri": "https://localhost:8080/"
        },
        "id": "rZik05__RKNF",
        "outputId": "fb0b6559-accd-4486-b577-6100f900c9fe"
      },
      "execution_count": null,
      "outputs": [
        {
          "output_type": "execute_result",
          "data": {
            "text/plain": [
              "0        11\n",
              "1        11\n",
              "2        11\n",
              "3        11\n",
              "4        11\n",
              "         ..\n",
              "56994    11\n",
              "56995    11\n",
              "56996    11\n",
              "56997    11\n",
              "56998    25\n",
              "Name: product_quantity, Length: 56999, dtype: Int64"
            ]
          },
          "metadata": {},
          "execution_count": 14
        }
      ]
    },
    {
      "cell_type": "code",
      "source": [
        "sns.boxplot(x = df['product_quantity'])\n",
        "plt.show()"
      ],
      "metadata": {
        "colab": {
          "base_uri": "https://localhost:8080/",
          "height": 280
        },
        "id": "S0NKlqgWRSAB",
        "outputId": "87de59d1-4889-4eb0-9ea7-277ceac76597"
      },
      "execution_count": null,
      "outputs": [
        {
          "output_type": "display_data",
          "data": {
            "text/plain": [
              "<Figure size 432x288 with 1 Axes>"
            ],
            "image/png": "[encoded data removed]"
          },
          "metadata": {
            "needs_background": "light"
          }
        }
      ]
    },
    {
      "cell_type": "code",
      "source": [
        "df['percentage_commission']"
      ],
      "metadata": {
        "colab": {
          "base_uri": "https://localhost:8080/"
        },
        "id": "IJWH87PjRijr",
        "outputId": "da652b6b-2bc8-4997-fa68-6d0382a90ebf"
      },
      "execution_count": null,
      "outputs": [
        {
          "output_type": "execute_result",
          "data": {
            "text/plain": [
              "0        2.0\n",
              "1        2.0\n",
              "2        2.0\n",
              "3        2.0\n",
              "4        2.0\n",
              "        ... \n",
              "56994    3.0\n",
              "56995    3.0\n",
              "56996    3.0\n",
              "56997    3.0\n",
              "56998    2.5\n",
              "Name: percentage_commission, Length: 56999, dtype: float64"
            ]
          },
          "metadata": {},
          "execution_count": 16
        }
      ]
    },
    {
      "cell_type": "code",
      "source": [
        "sns.boxplot(x = df['percentage_commission'])\n",
        "plt.show()"
      ],
      "metadata": {
        "colab": {
          "base_uri": "https://localhost:8080/",
          "height": 280
        },
        "id": "JDWkWpr_RxKN",
        "outputId": "5d4502d6-94c9-4ef7-afbc-b32c4f59eef6"
      },
      "execution_count": null,
      "outputs": [
        {
          "output_type": "display_data",
          "data": {
            "text/plain": [
              "<Figure size 432x288 with 1 Axes>"
            ],
            "image/png": "[encoded data removed]"
          },
          "metadata": {
            "needs_background": "light"
          }
        }
      ]
    },
    {
      "cell_type": "code",
      "source": [
        "df['product_quantity'].quantile(0.25)\n",
        "df['product_quantity'].quantile(0.75)\n",
        "\n",
        "Q1 = df['product_quantity'].quantile(0.25)\n",
        "Q3 = df['product_quantity'].quantile(0.75)\n",
        "IQR = Q3 - Q1\n",
        "\n",
        "batas_bawah = Q1 - 1.5 * IQR\n",
        "batas_atas = Q3 + 1.5 * IQR"
      ],
      "metadata": {
        "id": "EkIBA3NVTrMy"
      },
      "execution_count": null,
      "outputs": []
    },
    {
      "cell_type": "code",
      "source": [
        "batas_bawah"
      ],
      "metadata": {
        "colab": {
          "base_uri": "https://localhost:8080/"
        },
        "id": "s87-c1PFUubJ",
        "outputId": "1c605663-6956-4b41-f23e-d90540e3b5a4"
      },
      "execution_count": null,
      "outputs": [
        {
          "output_type": "execute_result",
          "data": {
            "text/plain": [
              "6.5"
            ]
          },
          "metadata": {},
          "execution_count": 19
        }
      ]
    },
    {
      "cell_type": "code",
      "source": [
        "batas_atas"
      ],
      "metadata": {
        "colab": {
          "base_uri": "https://localhost:8080/"
        },
        "id": "ajblIQnaUxCc",
        "outputId": "b3e17ea0-04b0-4857-ae02-34fb5ecc860d"
      },
      "execution_count": null,
      "outputs": [
        {
          "output_type": "execute_result",
          "data": {
            "text/plain": [
              "18.5"
            ]
          },
          "metadata": {},
          "execution_count": 20
        }
      ]
    },
    {
      "cell_type": "code",
      "source": [
        "df[(df['product_quantity'] < batas_bawah) | (df['product_quantity'] > batas_atas)].count()"
      ],
      "metadata": {
        "colab": {
          "base_uri": "https://localhost:8080/"
        },
        "id": "0aZNG1r1Zg_v",
        "outputId": "81fe2e21-3bdc-4d05-c0eb-2db4362e37d0"
      },
      "execution_count": null,
      "outputs": [
        {
          "output_type": "execute_result",
          "data": {
            "text/plain": [
              "order_id                 7171\n",
              "oder_detail_id           7171\n",
              "order_datetime           7171\n",
              "item_id                  7171\n",
              "item_name                7171\n",
              "cat_name                 7171\n",
              "price                    7171\n",
              "product_quantity         7171\n",
              "percentage_commission    7171\n",
              "payment_method           7171\n",
              "payment_datetime         7171\n",
              "processed_datetime       6773\n",
              "delivered_datetime       6667\n",
              "received_datetime        6574\n",
              "settled_datetime         6572\n",
              "buyer_id                 7171\n",
              "seller_id                7171\n",
              "order_source             7171\n",
              "buyer_province_name      7171\n",
              "buyer_city_name          7171\n",
              "logistic_name            7171\n",
              "dtype: int64"
            ]
          },
          "metadata": {},
          "execution_count": 21
        }
      ]
    },
    {
      "cell_type": "markdown",
      "source": [
        "## Data Transformation"
      ],
      "metadata": {
        "id": "kjougSRlZ49u"
      }
    },
    {
      "cell_type": "code",
      "source": [
        "df_fix = df.copy()"
      ],
      "metadata": {
        "id": "nkJQqoscZ-pg"
      },
      "execution_count": null,
      "outputs": []
    },
    {
      "cell_type": "code",
      "source": [
        "df_fix.info()"
      ],
      "metadata": {
        "colab": {
          "base_uri": "https://localhost:8080/"
        },
        "id": "5rRqMXgpaMPT",
        "outputId": "3cab9e97-1253-4314-e55b-9625d2563bf0"
      },
      "execution_count": null,
      "outputs": [
        {
          "output_type": "stream",
          "name": "stdout",
          "text": [
            "<class 'pandas.core.frame.DataFrame'>\n",
            "RangeIndex: 56999 entries, 0 to 56998\n",
            "Data columns (total 21 columns):\n",
            " #   Column                 Non-Null Count  Dtype              \n",
            "---  ------                 --------------  -----              \n",
            " 0   order_id               56999 non-null  object             \n",
            " 1   oder_detail_id         56999 non-null  object             \n",
            " 2   order_datetime         56999 non-null  datetime64[ns, UTC]\n",
            " 3   item_id                56999 non-null  object             \n",
            " 4   item_name              56999 non-null  object             \n",
            " 5   cat_name               56999 non-null  object             \n",
            " 6   price                  56999 non-null  float64            \n",
            " 7   product_quantity       56999 non-null  Int64              \n",
            " 8   percentage_commission  56999 non-null  float64            \n",
            " 9   payment_method         56999 non-null  object             \n",
            " 10  payment_datetime       56999 non-null  datetime64[ns, UTC]\n",
            " 11  processed_datetime     53325 non-null  datetime64[ns, UTC]\n",
            " 12  delivered_datetime     52995 non-null  datetime64[ns, UTC]\n",
            " 13  received_datetime      53287 non-null  datetime64[ns, UTC]\n",
            " 14  settled_datetime       53079 non-null  datetime64[ns, UTC]\n",
            " 15  buyer_id               56999 non-null  object             \n",
            " 16  seller_id              56999 non-null  object             \n",
            " 17  order_source           56999 non-null  object             \n",
            " 18  buyer_province_name    56995 non-null  object             \n",
            " 19  buyer_city_name        56995 non-null  object             \n",
            " 20  logistic_name          56999 non-null  object             \n",
            "dtypes: Int64(1), datetime64[ns, UTC](6), float64(2), object(12)\n",
            "memory usage: 9.2+ MB\n"
          ]
        }
      ]
    },
    {
      "cell_type": "code",
      "source": [
        "df_fix['gmv'] = df['price'] * df['product_quantity']\n",
        "df_fix['revenue'] = ((df['price']*df['product_quantity']) * df['percentage_commission']) / 100"
      ],
      "metadata": {
        "id": "G5O_w1M9aeXI"
      },
      "execution_count": null,
      "outputs": []
    },
    {
      "cell_type": "code",
      "source": [
        "df_fix[['order_id','price','percentage_commission','gmv','revenue']].tail(5)"
      ],
      "metadata": {
        "colab": {
          "base_uri": "https://localhost:8080/",
          "height": 206
        },
        "id": "LAvlO52waoHO",
        "outputId": "964b3698-1c46-4513-e99b-efe606257e40"
      },
      "execution_count": null,
      "outputs": [
        {
          "output_type": "execute_result",
          "data": {
            "text/plain": [
              "                                                order_id    price  \\\n",
              "56994  hMNVJu7pe/56r9IMer9EOhMaspNepjbOjY+yzwuxhbyMeX...  20000.0   \n",
              "56995  Kyr1swAjeR37xIsuF5FDUbp7QtkHWpbNByLa/Smk4It3Jv...  20000.0   \n",
              "56996  vUVI5D2/Fkw+uJCP/prvGKQR7pS6ysgu+YBpy7XKD0LDfI...  20000.0   \n",
              "56997  9l6zCubPWS1YrZp00WRBFOxRqWaqOid00L+C28qt8PhjEj...  29000.0   \n",
              "56998  0b8ttj22Y4JOZSMxrgXb0E4pd5MD7e+Pmy8Zk5rrK5NssN...  32000.0   \n",
              "\n",
              "       percentage_commission       gmv  revenue  \n",
              "56994                    3.0  220000.0   6600.0  \n",
              "56995                    3.0  220000.0   6600.0  \n",
              "56996                    3.0  220000.0   6600.0  \n",
              "56997                    3.0  319000.0   9570.0  \n",
              "56998                    2.5  800000.0  20000.0  "
            ],
            "text/html": [
              "\n",
              "  <div id=\"df-be7d9b59-b12a-4114-a72d-41b3ad6c322a\">\n",
              "    <div class=\"colab-df-container\">\n",
              "      <div>\n",
              "<style scoped>\n",
              "    .dataframe tbody tr th:only-of-type {\n",
              "        vertical-align: middle;\n",
              "    }\n",
              "\n",
              "    .dataframe tbody tr th {\n",
              "        vertical-align: top;\n",
              "    }\n",
              "\n",
              "    .dataframe thead th {\n",
              "        text-align: right;\n",
              "    }\n",
              "</style>\n",
              "<table border=\"1\" class=\"dataframe\">\n",
              "  <thead>\n",
              "    <tr style=\"text-align: right;\">\n",
              "      <th></th>\n",
              "      <th>order_id</th>\n",
              "      <th>price</th>\n",
              "      <th>percentage_commission</th>\n",
              "      <th>gmv</th>\n",
              "      <th>revenue</th>\n",
              "    </tr>\n",
              "  </thead>\n",
              "  <tbody>\n",
              "    <tr>\n",
              "      <th>56994</th>\n",
              "      <td>hMNVJu7pe/56r9IMer9EOhMaspNepjbOjY+yzwuxhbyMeX...</td>\n",
              "      <td>20000.0</td>\n",
              "      <td>3.0</td>\n",
              "      <td>220000.0</td>\n",
              "      <td>6600.0</td>\n",
              "    </tr>\n",
              "    <tr>\n",
              "      <th>56995</th>\n",
              "      <td>Kyr1swAjeR37xIsuF5FDUbp7QtkHWpbNByLa/Smk4It3Jv...</td>\n",
              "      <td>20000.0</td>\n",
              "      <td>3.0</td>\n",
              "      <td>220000.0</td>\n",
              "      <td>6600.0</td>\n",
              "    </tr>\n",
              "    <tr>\n",
              "      <th>56996</th>\n",
              "      <td>vUVI5D2/Fkw+uJCP/prvGKQR7pS6ysgu+YBpy7XKD0LDfI...</td>\n",
              "      <td>20000.0</td>\n",
              "      <td>3.0</td>\n",
              "      <td>220000.0</td>\n",
              "      <td>6600.0</td>\n",
              "    </tr>\n",
              "    <tr>\n",
              "      <th>56997</th>\n",
              "      <td>9l6zCubPWS1YrZp00WRBFOxRqWaqOid00L+C28qt8PhjEj...</td>\n",
              "      <td>29000.0</td>\n",
              "      <td>3.0</td>\n",
              "      <td>319000.0</td>\n",
              "      <td>9570.0</td>\n",
              "    </tr>\n",
              "    <tr>\n",
              "      <th>56998</th>\n",
              "      <td>0b8ttj22Y4JOZSMxrgXb0E4pd5MD7e+Pmy8Zk5rrK5NssN...</td>\n",
              "      <td>32000.0</td>\n",
              "      <td>2.5</td>\n",
              "      <td>800000.0</td>\n",
              "      <td>20000.0</td>\n",
              "    </tr>\n",
              "  </tbody>\n",
              "</table>\n",
              "</div>\n",
              "      <button class=\"colab-df-convert\" onclick=\"convertToInteractive('df-be7d9b59-b12a-4114-a72d-41b3ad6c322a')\"\n",
              "              title=\"Convert this dataframe to an interactive table.\"\n",
              "              style=\"display:none;\">\n",
              "        \n",
              "  <svg xmlns=\"http://www.w3.org/2000/svg\" height=\"24px\"viewBox=\"0 0 24 24\"\n",
              "       width=\"24px\">\n",
              "    <path d=\"M0 0h24v24H0V0z\" fill=\"none\"/>\n",
              "    <path d=\"M18.56 5.44l.94 2.06.94-2.06 2.06-.94-2.06-.94-.94-2.06-.94 2.06-2.06.94zm-11 1L8.5 8.5l.94-2.06 2.06-.94-2.06-.94L8.5 2.5l-.94 2.06-2.06.94zm10 10l.94 2.06.94-2.06 2.06-.94-2.06-.94-.94-2.06-.94 2.06-2.06.94z\"/><path d=\"M17.41 7.96l-1.37-1.37c-.4-.4-.92-.59-1.43-.59-.52 0-1.04.2-1.43.59L10.3 9.45l-7.72 7.72c-.78.78-.78 2.05 0 2.83L4 21.41c.39.39.9.59 1.41.59.51 0 1.02-.2 1.41-.59l7.78-7.78 2.81-2.81c.8-.78.8-2.07 0-2.86zM5.41 20L4 18.59l7.72-7.72 1.47 1.35L5.41 20z\"/>\n",
              "  </svg>\n",
              "      </button>\n",
              "      \n",
              "  <style>\n",
              "    .colab-df-container {\n",
              "      display:flex;\n",
              "      flex-wrap:wrap;\n",
              "      gap: 12px;\n",
              "    }\n",
              "\n",
              "    .colab-df-convert {\n",
              "      background-color: #E8F0FE;\n",
              "      border: none;\n",
              "      border-radius: 50%;\n",
              "      cursor: pointer;\n",
              "      display: none;\n",
              "      fill: #1967D2;\n",
              "      height: 32px;\n",
              "      padding: 0 0 0 0;\n",
              "      width: 32px;\n",
              "    }\n",
              "\n",
              "    .colab-df-convert:hover {\n",
              "      background-color: #E2EBFA;\n",
              "      box-shadow: 0px 1px 2px rgba(60, 64, 67, 0.3), 0px 1px 3px 1px rgba(60, 64, 67, 0.15);\n",
              "      fill: #174EA6;\n",
              "    }\n",
              "\n",
              "    [theme=dark] .colab-df-convert {\n",
              "      background-color: #3B4455;\n",
              "      fill: #D2E3FC;\n",
              "    }\n",
              "\n",
              "    [theme=dark] .colab-df-convert:hover {\n",
              "      background-color: #434B5C;\n",
              "      box-shadow: 0px 1px 3px 1px rgba(0, 0, 0, 0.15);\n",
              "      filter: drop-shadow(0px 1px 2px rgba(0, 0, 0, 0.3));\n",
              "      fill: #FFFFFF;\n",
              "    }\n",
              "  </style>\n",
              "\n",
              "      <script>\n",
              "        const buttonEl =\n",
              "          document.querySelector('#df-be7d9b59-b12a-4114-a72d-41b3ad6c322a button.colab-df-convert');\n",
              "        buttonEl.style.display =\n",
              "          google.colab.kernel.accessAllowed ? 'block' : 'none';\n",
              "\n",
              "        async function convertToInteractive(key) {\n",
              "          const element = document.querySelector('#df-be7d9b59-b12a-4114-a72d-41b3ad6c322a');\n",
              "          const dataTable =\n",
              "            await google.colab.kernel.invokeFunction('convertToInteractive',\n",
              "                                                     [key], {});\n",
              "          if (!dataTable) return;\n",
              "\n",
              "          const docLinkHtml = 'Like what you see? Visit the ' +\n",
              "            '<a target=\"_blank\" href=https://colab.research.google.com/notebooks/data_table.ipynb>data table notebook</a>'\n",
              "            + ' to learn more about interactive tables.';\n",
              "          element.innerHTML = '';\n",
              "          dataTable['output_type'] = 'display_data';\n",
              "          await google.colab.output.renderOutput(dataTable, element);\n",
              "          const docLink = document.createElement('div');\n",
              "          docLink.innerHTML = docLinkHtml;\n",
              "          element.appendChild(docLink);\n",
              "        }\n",
              "      </script>\n",
              "    </div>\n",
              "  </div>\n",
              "  "
            ]
          },
          "metadata": {},
          "execution_count": 25
        }
      ]
    },
    {
      "cell_type": "code",
      "source": [
        "def func(row):\n",
        "  if row['order_datetime'] is not pd.NaT and row['payment_datetime'] is not pd.NaT and row['processed_datetime'] is not pd.NaT and row['delivered_datetime'] is not pd.NaT and row['received_datetime'] is not pd.NaT and row['settled_datetime'] is not pd.NaT:\n",
        "    return 'true'\n",
        "  elif row['payment_method'] is not pd.NaT and row['received_datetime'] is not pd.NaT:\n",
        "    return 'false'\n",
        "\n",
        "df_fix['is_refund'] = df_fix.apply(func, axis=1)"
      ],
      "metadata": {
        "id": "7N-1ckubE3kZ"
      },
      "execution_count": null,
      "outputs": []
    },
    {
      "cell_type": "code",
      "source": [
        "df_fix[['order_id','gmv','revenue','is_refund']].head(5)"
      ],
      "metadata": {
        "colab": {
          "base_uri": "https://localhost:8080/",
          "height": 206
        },
        "id": "MSjoGMwc4S7c",
        "outputId": "467f2130-c205-47bd-c9a3-e3172629aa7f"
      },
      "execution_count": null,
      "outputs": [
        {
          "output_type": "execute_result",
          "data": {
            "text/plain": [
              "                                            order_id        gmv   revenue  \\\n",
              "0  RY8M4nM5qeRgOCHUc4sPamPxJ98EpP52G2I8yW2+jz9/LB...  5610000.0  112200.0   \n",
              "1  1z0Vi8I4h3P6gbhqKjTUhDXNMZpQf0MIs3A9hY2S/FoF70...  5610000.0  112200.0   \n",
              "2  RA3C3EZUWnZA1gQwLsM4MMA2QBsdniTTDOXP3GZvv/b0h2...  6710000.0  134200.0   \n",
              "3  904UDskup/Qtr2+ZAc7Xqiz/CfG2Q8uz2r8wSAsQRE69cR...  6710000.0  134200.0   \n",
              "4  7afmOZCVElvGcZerV4+2hiGtWn6yCME7mJTqk2Yl6i0dLh...  6710000.0  134200.0   \n",
              "\n",
              "  is_refund  \n",
              "0      true  \n",
              "1      true  \n",
              "2      true  \n",
              "3      true  \n",
              "4      true  "
            ],
            "text/html": [
              "\n",
              "  <div id=\"df-9956c520-fc19-4478-afac-a458f3ea6ddd\">\n",
              "    <div class=\"colab-df-container\">\n",
              "      <div>\n",
              "<style scoped>\n",
              "    .dataframe tbody tr th:only-of-type {\n",
              "        vertical-align: middle;\n",
              "    }\n",
              "\n",
              "    .dataframe tbody tr th {\n",
              "        vertical-align: top;\n",
              "    }\n",
              "\n",
              "    .dataframe thead th {\n",
              "        text-align: right;\n",
              "    }\n",
              "</style>\n",
              "<table border=\"1\" class=\"dataframe\">\n",
              "  <thead>\n",
              "    <tr style=\"text-align: right;\">\n",
              "      <th></th>\n",
              "      <th>order_id</th>\n",
              "      <th>gmv</th>\n",
              "      <th>revenue</th>\n",
              "      <th>is_refund</th>\n",
              "    </tr>\n",
              "  </thead>\n",
              "  <tbody>\n",
              "    <tr>\n",
              "      <th>0</th>\n",
              "      <td>RY8M4nM5qeRgOCHUc4sPamPxJ98EpP52G2I8yW2+jz9/LB...</td>\n",
              "      <td>5610000.0</td>\n",
              "      <td>112200.0</td>\n",
              "      <td>true</td>\n",
              "    </tr>\n",
              "    <tr>\n",
              "      <th>1</th>\n",
              "      <td>1z0Vi8I4h3P6gbhqKjTUhDXNMZpQf0MIs3A9hY2S/FoF70...</td>\n",
              "      <td>5610000.0</td>\n",
              "      <td>112200.0</td>\n",
              "      <td>true</td>\n",
              "    </tr>\n",
              "    <tr>\n",
              "      <th>2</th>\n",
              "      <td>RA3C3EZUWnZA1gQwLsM4MMA2QBsdniTTDOXP3GZvv/b0h2...</td>\n",
              "      <td>6710000.0</td>\n",
              "      <td>134200.0</td>\n",
              "      <td>true</td>\n",
              "    </tr>\n",
              "    <tr>\n",
              "      <th>3</th>\n",
              "      <td>904UDskup/Qtr2+ZAc7Xqiz/CfG2Q8uz2r8wSAsQRE69cR...</td>\n",
              "      <td>6710000.0</td>\n",
              "      <td>134200.0</td>\n",
              "      <td>true</td>\n",
              "    </tr>\n",
              "    <tr>\n",
              "      <th>4</th>\n",
              "      <td>7afmOZCVElvGcZerV4+2hiGtWn6yCME7mJTqk2Yl6i0dLh...</td>\n",
              "      <td>6710000.0</td>\n",
              "      <td>134200.0</td>\n",
              "      <td>true</td>\n",
              "    </tr>\n",
              "  </tbody>\n",
              "</table>\n",
              "</div>\n",
              "      <button class=\"colab-df-convert\" onclick=\"convertToInteractive('df-9956c520-fc19-4478-afac-a458f3ea6ddd')\"\n",
              "              title=\"Convert this dataframe to an interactive table.\"\n",
              "              style=\"display:none;\">\n",
              "        \n",
              "  <svg xmlns=\"http://www.w3.org/2000/svg\" height=\"24px\"viewBox=\"0 0 24 24\"\n",
              "       width=\"24px\">\n",
              "    <path d=\"M0 0h24v24H0V0z\" fill=\"none\"/>\n",
              "    <path d=\"M18.56 5.44l.94 2.06.94-2.06 2.06-.94-2.06-.94-.94-2.06-.94 2.06-2.06.94zm-11 1L8.5 8.5l.94-2.06 2.06-.94-2.06-.94L8.5 2.5l-.94 2.06-2.06.94zm10 10l.94 2.06.94-2.06 2.06-.94-2.06-.94-.94-2.06-.94 2.06-2.06.94z\"/><path d=\"M17.41 7.96l-1.37-1.37c-.4-.4-.92-.59-1.43-.59-.52 0-1.04.2-1.43.59L10.3 9.45l-7.72 7.72c-.78.78-.78 2.05 0 2.83L4 21.41c.39.39.9.59 1.41.59.51 0 1.02-.2 1.41-.59l7.78-7.78 2.81-2.81c.8-.78.8-2.07 0-2.86zM5.41 20L4 18.59l7.72-7.72 1.47 1.35L5.41 20z\"/>\n",
              "  </svg>\n",
              "      </button>\n",
              "      \n",
              "  <style>\n",
              "    .colab-df-container {\n",
              "      display:flex;\n",
              "      flex-wrap:wrap;\n",
              "      gap: 12px;\n",
              "    }\n",
              "\n",
              "    .colab-df-convert {\n",
              "      background-color: #E8F0FE;\n",
              "      border: none;\n",
              "      border-radius: 50%;\n",
              "      cursor: pointer;\n",
              "      display: none;\n",
              "      fill: #1967D2;\n",
              "      height: 32px;\n",
              "      padding: 0 0 0 0;\n",
              "      width: 32px;\n",
              "    }\n",
              "\n",
              "    .colab-df-convert:hover {\n",
              "      background-color: #E2EBFA;\n",
              "      box-shadow: 0px 1px 2px rgba(60, 64, 67, 0.3), 0px 1px 3px 1px rgba(60, 64, 67, 0.15);\n",
              "      fill: #174EA6;\n",
              "    }\n",
              "\n",
              "    [theme=dark] .colab-df-convert {\n",
              "      background-color: #3B4455;\n",
              "      fill: #D2E3FC;\n",
              "    }\n",
              "\n",
              "    [theme=dark] .colab-df-convert:hover {\n",
              "      background-color: #434B5C;\n",
              "      box-shadow: 0px 1px 3px 1px rgba(0, 0, 0, 0.15);\n",
              "      filter: drop-shadow(0px 1px 2px rgba(0, 0, 0, 0.3));\n",
              "      fill: #FFFFFF;\n",
              "    }\n",
              "  </style>\n",
              "\n",
              "      <script>\n",
              "        const buttonEl =\n",
              "          document.querySelector('#df-9956c520-fc19-4478-afac-a458f3ea6ddd button.colab-df-convert');\n",
              "        buttonEl.style.display =\n",
              "          google.colab.kernel.accessAllowed ? 'block' : 'none';\n",
              "\n",
              "        async function convertToInteractive(key) {\n",
              "          const element = document.querySelector('#df-9956c520-fc19-4478-afac-a458f3ea6ddd');\n",
              "          const dataTable =\n",
              "            await google.colab.kernel.invokeFunction('convertToInteractive',\n",
              "                                                     [key], {});\n",
              "          if (!dataTable) return;\n",
              "\n",
              "          const docLinkHtml = 'Like what you see? Visit the ' +\n",
              "            '<a target=\"_blank\" href=https://colab.research.google.com/notebooks/data_table.ipynb>data table notebook</a>'\n",
              "            + ' to learn more about interactive tables.';\n",
              "          element.innerHTML = '';\n",
              "          dataTable['output_type'] = 'display_data';\n",
              "          await google.colab.output.renderOutput(dataTable, element);\n",
              "          const docLink = document.createElement('div');\n",
              "          docLink.innerHTML = docLinkHtml;\n",
              "          element.appendChild(docLink);\n",
              "        }\n",
              "      </script>\n",
              "    </div>\n",
              "  </div>\n",
              "  "
            ]
          },
          "metadata": {},
          "execution_count": 34
        }
      ]
    },
    {
      "cell_type": "markdown",
      "source": [
        "## Exploratory Data Analysis"
      ],
      "metadata": {
        "id": "2dzRXQI1a_9j"
      }
    },
    {
      "cell_type": "code",
      "source": [
        "df_fix.info()"
      ],
      "metadata": {
        "colab": {
          "base_uri": "https://localhost:8080/"
        },
        "id": "7kwklFlubPBd",
        "outputId": "d059343e-8998-49ce-ab01-d6643891d2e5"
      },
      "execution_count": null,
      "outputs": [
        {
          "output_type": "stream",
          "name": "stdout",
          "text": [
            "<class 'pandas.core.frame.DataFrame'>\n",
            "RangeIndex: 56999 entries, 0 to 56998\n",
            "Data columns (total 24 columns):\n",
            " #   Column                 Non-Null Count  Dtype              \n",
            "---  ------                 --------------  -----              \n",
            " 0   order_id               56999 non-null  object             \n",
            " 1   oder_detail_id         56999 non-null  object             \n",
            " 2   order_datetime         56999 non-null  datetime64[ns, UTC]\n",
            " 3   item_id                56999 non-null  object             \n",
            " 4   item_name              56999 non-null  object             \n",
            " 5   cat_name               56999 non-null  object             \n",
            " 6   price                  56999 non-null  float64            \n",
            " 7   product_quantity       56999 non-null  Int64              \n",
            " 8   percentage_commission  56999 non-null  float64            \n",
            " 9   payment_method         56999 non-null  object             \n",
            " 10  payment_datetime       56999 non-null  datetime64[ns, UTC]\n",
            " 11  processed_datetime     53325 non-null  datetime64[ns, UTC]\n",
            " 12  delivered_datetime     52995 non-null  datetime64[ns, UTC]\n",
            " 13  received_datetime      53287 non-null  datetime64[ns, UTC]\n",
            " 14  settled_datetime       53079 non-null  datetime64[ns, UTC]\n",
            " 15  buyer_id               56999 non-null  object             \n",
            " 16  seller_id              56999 non-null  object             \n",
            " 17  order_source           56999 non-null  object             \n",
            " 18  buyer_province_name    56995 non-null  object             \n",
            " 19  buyer_city_name        56995 non-null  object             \n",
            " 20  logistic_name          56999 non-null  object             \n",
            " 21  gmv                    56999 non-null  Float64            \n",
            " 22  revenue                56999 non-null  Float64            \n",
            " 23  is_refund              53287 non-null  object             \n",
            "dtypes: Float64(2), Int64(1), datetime64[ns, UTC](6), float64(2), object(13)\n",
            "memory usage: 10.6+ MB\n"
          ]
        }
      ]
    },
    {
      "cell_type": "code",
      "source": [
        "total_order = df_fix['order_id'].count()\n",
        "print('Total_Order :', total_order)"
      ],
      "metadata": {
        "colab": {
          "base_uri": "https://localhost:8080/"
        },
        "id": "WbhpxTilbZIH",
        "outputId": "c1cd7a15-43c8-473b-8301-ec188af2a80b"
      },
      "execution_count": null,
      "outputs": [
        {
          "output_type": "stream",
          "name": "stdout",
          "text": [
            "Total_Order : 56999\n"
          ]
        }
      ]
    },
    {
      "cell_type": "code",
      "source": [
        "category_revenue = df_fix[['cat_name', 'revenue']]\n",
        "df_group = category_revenue.groupby(['cat_name']).sum()\n",
        "df_group.sort_values(by=['revenue'], inplace=True, ascending=False)\n",
        "df_group"
      ],
      "metadata": {
        "colab": {
          "base_uri": "https://localhost:8080/",
          "height": 457
        },
        "id": "OcU092Nkb-hP",
        "outputId": "750d55cf-6bc7-4ee8-ecd8-e2ae9cd824b2"
      },
      "execution_count": null,
      "outputs": [
        {
          "output_type": "execute_result",
          "data": {
            "text/plain": [
              "                                     revenue\n",
              "cat_name                                    \n",
              "Computer & Communication      4674947540.365\n",
              "Automotive & Transportation    3680248759.85\n",
              "Agriculture & Food            1108239475.615\n",
              "Machinery & Industrial Parts    513947693.56\n",
              "Electronics                     373019336.48\n",
              "Building Materials              281824133.35\n",
              "Health & Medical                100170766.35\n",
              "Office & Store Supplies         61040248.225\n",
              "Beauty, Sport & Fashion         49432906.785\n",
              "Furnitures & Decorations          33800371.0\n",
              "Horeca                             2834571.5\n",
              "Services                           1877470.0"
            ],
            "text/html": [
              "\n",
              "  <div id=\"df-5aee64ba-0139-4e93-9211-c392f3cc8371\">\n",
              "    <div class=\"colab-df-container\">\n",
              "      <div>\n",
              "<style scoped>\n",
              "    .dataframe tbody tr th:only-of-type {\n",
              "        vertical-align: middle;\n",
              "    }\n",
              "\n",
              "    .dataframe tbody tr th {\n",
              "        vertical-align: top;\n",
              "    }\n",
              "\n",
              "    .dataframe thead th {\n",
              "        text-align: right;\n",
              "    }\n",
              "</style>\n",
              "<table border=\"1\" class=\"dataframe\">\n",
              "  <thead>\n",
              "    <tr style=\"text-align: right;\">\n",
              "      <th></th>\n",
              "      <th>revenue</th>\n",
              "    </tr>\n",
              "    <tr>\n",
              "      <th>cat_name</th>\n",
              "      <th></th>\n",
              "    </tr>\n",
              "  </thead>\n",
              "  <tbody>\n",
              "    <tr>\n",
              "      <th>Computer &amp; Communication</th>\n",
              "      <td>4674947540.365</td>\n",
              "    </tr>\n",
              "    <tr>\n",
              "      <th>Automotive &amp; Transportation</th>\n",
              "      <td>3680248759.85</td>\n",
              "    </tr>\n",
              "    <tr>\n",
              "      <th>Agriculture &amp; Food</th>\n",
              "      <td>1108239475.615</td>\n",
              "    </tr>\n",
              "    <tr>\n",
              "      <th>Machinery &amp; Industrial Parts</th>\n",
              "      <td>513947693.56</td>\n",
              "    </tr>\n",
              "    <tr>\n",
              "      <th>Electronics</th>\n",
              "      <td>373019336.48</td>\n",
              "    </tr>\n",
              "    <tr>\n",
              "      <th>Building Materials</th>\n",
              "      <td>281824133.35</td>\n",
              "    </tr>\n",
              "    <tr>\n",
              "      <th>Health &amp; Medical</th>\n",
              "      <td>100170766.35</td>\n",
              "    </tr>\n",
              "    <tr>\n",
              "      <th>Office &amp; Store Supplies</th>\n",
              "      <td>61040248.225</td>\n",
              "    </tr>\n",
              "    <tr>\n",
              "      <th>Beauty, Sport &amp; Fashion</th>\n",
              "      <td>49432906.785</td>\n",
              "    </tr>\n",
              "    <tr>\n",
              "      <th>Furnitures &amp; Decorations</th>\n",
              "      <td>33800371.0</td>\n",
              "    </tr>\n",
              "    <tr>\n",
              "      <th>Horeca</th>\n",
              "      <td>2834571.5</td>\n",
              "    </tr>\n",
              "    <tr>\n",
              "      <th>Services</th>\n",
              "      <td>1877470.0</td>\n",
              "    </tr>\n",
              "  </tbody>\n",
              "</table>\n",
              "</div>\n",
              "      <button class=\"colab-df-convert\" onclick=\"convertToInteractive('df-5aee64ba-0139-4e93-9211-c392f3cc8371')\"\n",
              "              title=\"Convert this dataframe to an interactive table.\"\n",
              "              style=\"display:none;\">\n",
              "        \n",
              "  <svg xmlns=\"http://www.w3.org/2000/svg\" height=\"24px\"viewBox=\"0 0 24 24\"\n",
              "       width=\"24px\">\n",
              "    <path d=\"M0 0h24v24H0V0z\" fill=\"none\"/>\n",
              "    <path d=\"M18.56 5.44l.94 2.06.94-2.06 2.06-.94-2.06-.94-.94-2.06-.94 2.06-2.06.94zm-11 1L8.5 8.5l.94-2.06 2.06-.94-2.06-.94L8.5 2.5l-.94 2.06-2.06.94zm10 10l.94 2.06.94-2.06 2.06-.94-2.06-.94-.94-2.06-.94 2.06-2.06.94z\"/><path d=\"M17.41 7.96l-1.37-1.37c-.4-.4-.92-.59-1.43-.59-.52 0-1.04.2-1.43.59L10.3 9.45l-7.72 7.72c-.78.78-.78 2.05 0 2.83L4 21.41c.39.39.9.59 1.41.59.51 0 1.02-.2 1.41-.59l7.78-7.78 2.81-2.81c.8-.78.8-2.07 0-2.86zM5.41 20L4 18.59l7.72-7.72 1.47 1.35L5.41 20z\"/>\n",
              "  </svg>\n",
              "      </button>\n",
              "      \n",
              "  <style>\n",
              "    .colab-df-container {\n",
              "      display:flex;\n",
              "      flex-wrap:wrap;\n",
              "      gap: 12px;\n",
              "    }\n",
              "\n",
              "    .colab-df-convert {\n",
              "      background-color: #E8F0FE;\n",
              "      border: none;\n",
              "      border-radius: 50%;\n",
              "      cursor: pointer;\n",
              "      display: none;\n",
              "      fill: #1967D2;\n",
              "      height: 32px;\n",
              "      padding: 0 0 0 0;\n",
              "      width: 32px;\n",
              "    }\n",
              "\n",
              "    .colab-df-convert:hover {\n",
              "      background-color: #E2EBFA;\n",
              "      box-shadow: 0px 1px 2px rgba(60, 64, 67, 0.3), 0px 1px 3px 1px rgba(60, 64, 67, 0.15);\n",
              "      fill: #174EA6;\n",
              "    }\n",
              "\n",
              "    [theme=dark] .colab-df-convert {\n",
              "      background-color: #3B4455;\n",
              "      fill: #D2E3FC;\n",
              "    }\n",
              "\n",
              "    [theme=dark] .colab-df-convert:hover {\n",
              "      background-color: #434B5C;\n",
              "      box-shadow: 0px 1px 3px 1px rgba(0, 0, 0, 0.15);\n",
              "      filter: drop-shadow(0px 1px 2px rgba(0, 0, 0, 0.3));\n",
              "      fill: #FFFFFF;\n",
              "    }\n",
              "  </style>\n",
              "\n",
              "      <script>\n",
              "        const buttonEl =\n",
              "          document.querySelector('#df-5aee64ba-0139-4e93-9211-c392f3cc8371 button.colab-df-convert');\n",
              "        buttonEl.style.display =\n",
              "          google.colab.kernel.accessAllowed ? 'block' : 'none';\n",
              "\n",
              "        async function convertToInteractive(key) {\n",
              "          const element = document.querySelector('#df-5aee64ba-0139-4e93-9211-c392f3cc8371');\n",
              "          const dataTable =\n",
              "            await google.colab.kernel.invokeFunction('convertToInteractive',\n",
              "                                                     [key], {});\n",
              "          if (!dataTable) return;\n",
              "\n",
              "          const docLinkHtml = 'Like what you see? Visit the ' +\n",
              "            '<a target=\"_blank\" href=https://colab.research.google.com/notebooks/data_table.ipynb>data table notebook</a>'\n",
              "            + ' to learn more about interactive tables.';\n",
              "          element.innerHTML = '';\n",
              "          dataTable['output_type'] = 'display_data';\n",
              "          await google.colab.output.renderOutput(dataTable, element);\n",
              "          const docLink = document.createElement('div');\n",
              "          docLink.innerHTML = docLinkHtml;\n",
              "          element.appendChild(docLink);\n",
              "        }\n",
              "      </script>\n",
              "    </div>\n",
              "  </div>\n",
              "  "
            ]
          },
          "metadata": {},
          "execution_count": 29
        }
      ]
    },
    {
      "cell_type": "code",
      "source": [
        "df_fix.plot.scatter(x='gmv', y='revenue');"
      ],
      "metadata": {
        "colab": {
          "base_uri": "https://localhost:8080/",
          "height": 290
        },
        "id": "qsnyJg0D-chk",
        "outputId": "df471a6b-3efd-4bb1-9e04-eb7864612d0d"
      },
      "execution_count": null,
      "outputs": [
        {
          "output_type": "display_data",
          "data": {
            "text/plain": [
              "<Figure size 432x288 with 1 Axes>"
            ],
            "image/png": "[encoded data removed]"
          },
          "metadata": {
            "needs_background": "light"
          }
        }
      ]
    }
  ]
}